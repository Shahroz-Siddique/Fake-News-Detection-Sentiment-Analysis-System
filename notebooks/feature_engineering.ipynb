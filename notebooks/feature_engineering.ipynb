{
 "cells": [
  {
   "cell_type": "code",
   "execution_count": 4,
   "id": "7db89d25",
   "metadata": {},
   "outputs": [],
   "source": [
    "import sys\n",
    "sys.path.append('../')\n",
    "\n",
    "from src.features.feature_engineering import create_tfidf_features\n",
    "from src.utils.helpers import ensure_directories\n",
    "import pandas as pd"
   ]
  },
  {
   "cell_type": "code",
   "execution_count": 2,
   "id": "66375a4d",
   "metadata": {},
   "outputs": [],
   "source": [
    "ensure_directories(['data/processed'])\n",
    "\n",
    "data = pd.read_csv('/home/foxtech/SHAHROZ_PROJ/Fake_news/data/processed/cleaned_news.csv')"
   ]
  },
  {
   "cell_type": "code",
   "execution_count": 6,
   "id": "f5f1c8eb",
   "metadata": {},
   "outputs": [],
   "source": [
    "from sklearn.feature_extraction.text import TfidfVectorizer\n",
    "import pickle\n",
    "\n",
    "def create_tfidf_features(df, text_column, save_path_X, save_path_y, save_vectorizer_path):\n",
    "    # Fill NaNs with empty string\n",
    "    df[text_column] = df[text_column].fillna('')\n",
    "    \n",
    "    # Create vectorizer and fit-transform\n",
    "    vectorizer = TfidfVectorizer(max_features=5000)\n",
    "    X = vectorizer.fit_transform(df[text_column])\n",
    "    y = df['label']\n",
    "\n",
    "    # Save the results\n",
    "    with open(save_path_X, 'wb') as fx, \\\n",
    "         open(save_path_y, 'wb') as fy, \\\n",
    "         open(save_vectorizer_path, 'wb') as fv:\n",
    "        pickle.dump(X, fx)\n",
    "        pickle.dump(y, fy)\n",
    "        pickle.dump(vectorizer, fv)\n",
    "\n",
    "    return X, y, vectorizer\n"
   ]
  },
  {
   "cell_type": "code",
   "execution_count": 7,
   "id": "b88fe943",
   "metadata": {},
   "outputs": [],
   "source": [
    "X, y, vectorizer = create_tfidf_features(\n",
    "    data,\n",
    "    text_column='clean_content',\n",
    "    save_path_X='data/processed/X.pkl',\n",
    "    save_path_y='data/processed/y.pkl',\n",
    "    save_vectorizer_path='data/processed/vectorizer.pkl'\n",
    ")"
   ]
  },
  {
   "cell_type": "code",
   "execution_count": 2,
   "id": "58fc9ff4",
   "metadata": {},
   "outputs": [
    {
     "name": "stdout",
     "output_type": "stream",
     "text": [
      "✅ Model trained and saved as model.pkl\n"
     ]
    }
   ],
   "source": [
    "# retrain_and_save_model.py\n",
    "\n",
    "import pickle\n",
    "from sklearn.linear_model import LogisticRegression\n",
    "\n",
    "# Load feature matrix and labels\n",
    "X = pickle.load(open(\"/home/foxtech/SHAHROZ_PROJ/Fake_news/notebooks/data/processed/X.pkl\", \"rb\"))\n",
    "y = pickle.load(open(\"/home/foxtech/SHAHROZ_PROJ/Fake_news/notebooks/data/processed/y.pkl\", \"rb\"))\n",
    "\n",
    "# Train a simple classifier\n",
    "model = LogisticRegression()\n",
    "model.fit(X, y)\n",
    "\n",
    "# Save the trained model\n",
    "with open(\"data/processed/model.pkl\", \"wb\") as f:\n",
    "    pickle.dump(model, f)\n",
    "\n",
    "print(\"✅ Model trained and saved as model.pkl\")\n"
   ]
  },
  {
   "cell_type": "code",
   "execution_count": null,
   "id": "5aaf575a",
   "metadata": {},
   "outputs": [],
   "source": []
  },
  {
   "cell_type": "code",
   "execution_count": null,
   "id": "27a8c9a2",
   "metadata": {},
   "outputs": [],
   "source": []
  },
  {
   "cell_type": "code",
   "execution_count": null,
   "id": "87d01dfe",
   "metadata": {},
   "outputs": [],
   "source": []
  }
 ],
 "metadata": {
  "kernelspec": {
   "display_name": "Python 3",
   "language": "python",
   "name": "python3"
  },
  "language_info": {
   "codemirror_mode": {
    "name": "ipython",
    "version": 3
   },
   "file_extension": ".py",
   "mimetype": "text/x-python",
   "name": "python",
   "nbconvert_exporter": "python",
   "pygments_lexer": "ipython3",
   "version": "3.10.17"
  }
 },
 "nbformat": 4,
 "nbformat_minor": 5
}
