{
 "cells": [
  {
   "cell_type": "code",
   "execution_count": 8,
   "id": "c397b596",
   "metadata": {},
   "outputs": [],
   "source": [
    "from sklearn.feature_extraction.text import TfidfVectorizer\n",
    "import pickle\n",
    "import pandas as pd"
   ]
  },
  {
   "cell_type": "code",
   "execution_count": 9,
   "id": "9e392956",
   "metadata": {},
   "outputs": [],
   "source": [
    "combined_df=pd.read_csv('/home/foxtech/SHAHROZ_PROJ/Fake_news/notebooks/data/processed/cleaned_news.csv')"
   ]
  },
  {
   "cell_type": "code",
   "execution_count": 11,
   "id": "bb00fb80",
   "metadata": {},
   "outputs": [],
   "source": [
    "combined_df = combined_df.dropna(subset=['clean_content'])\n"
   ]
  },
  {
   "cell_type": "code",
   "execution_count": 12,
   "id": "2a6b44ba",
   "metadata": {},
   "outputs": [],
   "source": [
    "combined_df['clean_content'] = combined_df['clean_content'].fillna('')\n"
   ]
  },
  {
   "cell_type": "code",
   "execution_count": 13,
   "id": "bcd418d3",
   "metadata": {},
   "outputs": [],
   "source": [
    "vectorizer = TfidfVectorizer(max_features=5000, ngram_range=(1, 2), stop_words='english')\n",
    "X = vectorizer.fit_transform(combined_df['clean_content'])\n",
    "y = combined_df['label']"
   ]
  },
  {
   "cell_type": "code",
   "execution_count": 14,
   "id": "14c305da",
   "metadata": {},
   "outputs": [],
   "source": [
    "pickle.dump(X, open('data/features/tfidf_vectors.pkl', 'wb'))\n",
    "pickle.dump(y, open('data/features/labels.pkl', 'wb'))\n",
    "pickle.dump(vectorizer, open('data/features/vectorizer.pkl', 'wb'))"
   ]
  }
 ],
 "metadata": {
  "kernelspec": {
   "display_name": "Python 3",
   "language": "python",
   "name": "python3"
  },
  "language_info": {
   "codemirror_mode": {
    "name": "ipython",
    "version": 3
   },
   "file_extension": ".py",
   "mimetype": "text/x-python",
   "name": "python",
   "nbconvert_exporter": "python",
   "pygments_lexer": "ipython3",
   "version": "3.10.17"
  }
 },
 "nbformat": 4,
 "nbformat_minor": 5
}
