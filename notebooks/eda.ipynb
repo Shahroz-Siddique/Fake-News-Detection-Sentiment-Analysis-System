{
 "cells": [
  {
   "cell_type": "code",
   "execution_count": 5,
   "id": "9f27fd33",
   "metadata": {},
   "outputs": [],
   "source": [
    "import matplotlib.pyplot as plt\n",
    "import seaborn as sns\n",
    "from wordcloud import WordCloud\n",
    "import pandas as pd"
   ]
  },
  {
   "cell_type": "code",
   "execution_count": 7,
   "id": "793b2886",
   "metadata": {},
   "outputs": [],
   "source": [
    "combined_df=pd.read_csv('/home/foxtech/SHAHROZ_PROJ/Fake_news/notebooks/data/processed/combined_news.csv')"
   ]
  },
  {
   "cell_type": "code",
   "execution_count": 8,
   "id": "b4ab2b49",
   "metadata": {},
   "outputs": [
    {
     "data": {
      "text/plain": [
       "<Figure size 640x480 with 0 Axes>"
      ]
     },
     "metadata": {},
     "output_type": "display_data"
    }
   ],
   "source": [
    "\n",
    "sns.countplot(x='label', data=combined_df)\n",
    "plt.title('Label Distribution (0=Fake, 1=Real)')\n",
    "plt.savefig('outputs/figures/label_distribution.png')\n",
    "plt.clf()"
   ]
  },
  {
   "cell_type": "code",
   "execution_count": 9,
   "id": "eeef396e",
   "metadata": {},
   "outputs": [],
   "source": [
    "fake_text = ' '.join(combined_df[combined_df['label'] == 0]['content'])\n",
    "real_text = ' '.join(combined_df[combined_df['label'] == 1]['content'])\n"
   ]
  },
  {
   "cell_type": "code",
   "execution_count": 10,
   "id": "2e11a49d",
   "metadata": {},
   "outputs": [
    {
     "data": {
      "text/plain": [
       "<wordcloud.wordcloud.WordCloud at 0x7a391c0a5840>"
      ]
     },
     "execution_count": 10,
     "metadata": {},
     "output_type": "execute_result"
    }
   ],
   "source": [
    "wc_fake = WordCloud(width=800, height=400, background_color='black').generate(fake_text)\n",
    "wc_fake.to_file('outputs/figures/wordcloud_fake.png')"
   ]
  },
  {
   "cell_type": "code",
   "execution_count": 11,
   "id": "44ca8294",
   "metadata": {},
   "outputs": [
    {
     "data": {
      "text/plain": [
       "<wordcloud.wordcloud.WordCloud at 0x7a391c0a4940>"
      ]
     },
     "execution_count": 11,
     "metadata": {},
     "output_type": "execute_result"
    }
   ],
   "source": [
    "wc_real = WordCloud(width=800, height=400, background_color='white').generate(real_text)\n",
    "wc_real.to_file('outputs/figures/wordcloud_real.png')"
   ]
  },
  {
   "cell_type": "code",
   "execution_count": null,
   "id": "f2879094",
   "metadata": {},
   "outputs": [],
   "source": []
  },
  {
   "cell_type": "code",
   "execution_count": null,
   "id": "28aacf80",
   "metadata": {},
   "outputs": [],
   "source": []
  },
  {
   "cell_type": "code",
   "execution_count": null,
   "id": "5a8b0850",
   "metadata": {},
   "outputs": [],
   "source": []
  }
 ],
 "metadata": {
  "kernelspec": {
   "display_name": "Python 3",
   "language": "python",
   "name": "python3"
  },
  "language_info": {
   "codemirror_mode": {
    "name": "ipython",
    "version": 3
   },
   "file_extension": ".py",
   "mimetype": "text/x-python",
   "name": "python",
   "nbconvert_exporter": "python",
   "pygments_lexer": "ipython3",
   "version": "3.10.17"
  }
 },
 "nbformat": 4,
 "nbformat_minor": 5
}
