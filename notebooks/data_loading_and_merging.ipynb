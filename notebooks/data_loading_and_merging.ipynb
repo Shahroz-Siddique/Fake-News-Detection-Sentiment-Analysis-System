{
 "cells": [
  {
   "cell_type": "code",
   "execution_count": 2,
   "id": "baaf2964",
   "metadata": {},
   "outputs": [],
   "source": [
    "import pandas as pd\n",
    "import numpy as np\n",
    "import os"
   ]
  },
  {
   "cell_type": "code",
   "execution_count": 3,
   "id": "91e51341",
   "metadata": {},
   "outputs": [],
   "source": [
    "os.makedirs(\"data/processed\", exist_ok=True)\n",
    "os.makedirs(\"data/features\", exist_ok=True)\n",
    "os.makedirs(\"outputs/figures\", exist_ok=True)"
   ]
  },
  {
   "cell_type": "code",
   "execution_count": 4,
   "metadata": {},
   "outputs": [],
   "source": [
    "fake_df = pd.read_csv(\"/home/foxtech/SHAHROZ_PROJ/Fake_news/data/Fake.csv\")\n",
    "true_df = pd.read_csv(\"/home/foxtech/SHAHROZ_PROJ/Fake_news/data/True.csv\")"
   ]
  },
  {
   "cell_type": "code",
   "execution_count": 5,
   "metadata": {},
   "outputs": [],
   "source": [
    "fake_df['label'] = 0  # Fake news\n",
    "true_df['label'] = 1  # Real news\n"
   ]
  },
  {
   "cell_type": "code",
   "execution_count": 6,
   "metadata": {},
   "outputs": [],
   "source": [
    "combined_df = pd.concat([fake_df, true_df], ignore_index=True)\n",
    "combined_df = combined_df.sample(frac=1, random_state=42).reset_index(drop=True)\n"
   ]
  },
  {
   "cell_type": "code",
   "execution_count": 7,
   "metadata": {},
   "outputs": [],
   "source": [
    "if 'date' in combined_df.columns:\n",
    "    combined_df.drop('date', axis=1, inplace=True)\n",
    "\n",
    "# Create 'content' column by merging title and text\n",
    "combined_df['content'] = combined_df['title'] + \" \" + combined_df['text']\n",
    "combined_df.drop(['title', 'text'], axis=1, inplace=True)"
   ]
  },
  {
   "cell_type": "code",
   "execution_count": 8,
   "metadata": {},
   "outputs": [],
   "source": [
    "combined_df.to_csv(\"data/processed/combined_news.csv\", index=False)"
   ]
  },
  {
   "cell_type": "code",
   "execution_count": null,
   "metadata": {},
   "outputs": [],
   "source": []
  },
  {
   "cell_type": "code",
   "execution_count": null,
   "metadata": {},
   "outputs": [],
   "source": []
  },
  {
   "cell_type": "code",
   "execution_count": null,
   "id": "4ad71df1",
   "metadata": {},
   "outputs": [],
   "source": []
  }
 ],
 "metadata": {
  "kernelspec": {
   "display_name": "Python 3",
   "language": "python",
   "name": "python3"
  },
  "language_info": {
   "codemirror_mode": {
    "name": "ipython",
    "version": 3
   },
   "file_extension": ".py",
   "mimetype": "text/x-python",
   "name": "python",
   "nbconvert_exporter": "python",
   "pygments_lexer": "ipython3",
   "version": "3.10.17"
  }
 },
 "nbformat": 4,
 "nbformat_minor": 5
}
