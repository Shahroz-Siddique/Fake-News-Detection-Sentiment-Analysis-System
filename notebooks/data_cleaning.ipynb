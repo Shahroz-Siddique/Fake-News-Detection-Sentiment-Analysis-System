{
 "cells": [
  {
   "cell_type": "code",
   "execution_count": 2,
   "id": "87bc1479",
   "metadata": {},
   "outputs": [
    {
     "name": "stderr",
     "output_type": "stream",
     "text": [
      "[nltk_data] Downloading package stopwords to\n",
      "[nltk_data]     /home/foxtech/nltk_data...\n",
      "[nltk_data]   Package stopwords is already up-to-date!\n",
      "[nltk_data] Downloading package wordnet to /home/foxtech/nltk_data...\n",
      "[nltk_data]   Package wordnet is already up-to-date!\n"
     ]
    }
   ],
   "source": [
    "import sys\n",
    "sys.path.append('../')\n",
    "from src.data_prep.cleaning import load_and_prepare_data\n",
    "from src.utils.helpers import ensure_directories"
   ]
  },
  {
   "cell_type": "code",
   "execution_count": 3,
   "id": "caf8f75d",
   "metadata": {},
   "outputs": [],
   "source": [
    "ensure_directories(['data/processed'])"
   ]
  },
  {
   "cell_type": "code",
   "execution_count": 10,
   "id": "983fcde5",
   "metadata": {},
   "outputs": [],
   "source": [
    "fake_path = '/home/foxtech/SHAHROZ_PROJ/Fake_news/data/Fake.csv'\n",
    "true_path = '/home/foxtech/SHAHROZ_PROJ/Fake_news/data/True.csv'\n",
    "output_path = '/home/foxtech/SHAHROZ_PROJ/Fake_news/data/processed/cleaned_news.csv'"
   ]
  },
  {
   "cell_type": "code",
   "execution_count": 11,
   "id": "3afdb3d9",
   "metadata": {},
   "outputs": [
    {
     "data": {
      "text/html": [
       "<div>\n",
       "<style scoped>\n",
       "    .dataframe tbody tr th:only-of-type {\n",
       "        vertical-align: middle;\n",
       "    }\n",
       "\n",
       "    .dataframe tbody tr th {\n",
       "        vertical-align: top;\n",
       "    }\n",
       "\n",
       "    .dataframe thead th {\n",
       "        text-align: right;\n",
       "    }\n",
       "</style>\n",
       "<table border=\"1\" class=\"dataframe\">\n",
       "  <thead>\n",
       "    <tr style=\"text-align: right;\">\n",
       "      <th></th>\n",
       "      <th>title</th>\n",
       "      <th>text</th>\n",
       "      <th>subject</th>\n",
       "      <th>date</th>\n",
       "      <th>label</th>\n",
       "      <th>clean_content</th>\n",
       "    </tr>\n",
       "  </thead>\n",
       "  <tbody>\n",
       "    <tr>\n",
       "      <th>0</th>\n",
       "      <td>WOW! BLACK DALLAS Police Sergeant Sues Obama, ...</td>\n",
       "      <td>Read the list of people and organizations this...</td>\n",
       "      <td>politics</td>\n",
       "      <td>Sep 18, 2016</td>\n",
       "      <td>0</td>\n",
       "      <td>read list people organization brave dallas pol...</td>\n",
       "    </tr>\n",
       "    <tr>\n",
       "      <th>1</th>\n",
       "      <td>China says will investigate if U.N. resolution...</td>\n",
       "      <td>BEIJING (Reuters) - China s foreign ministry o...</td>\n",
       "      <td>worldnews</td>\n",
       "      <td>November 8, 2017</td>\n",
       "      <td>1</td>\n",
       "      <td>beijing reuters china foreign ministry wednesd...</td>\n",
       "    </tr>\n",
       "    <tr>\n",
       "      <th>2</th>\n",
       "      <td>New urgency for Cleveland security after Franc...</td>\n",
       "      <td>CLEVELAND (Reuters) - Cleveland on Friday set ...</td>\n",
       "      <td>politicsNews</td>\n",
       "      <td>July 15, 2016</td>\n",
       "      <td>1</td>\n",
       "      <td>cleveland reuters cleveland friday set concret...</td>\n",
       "    </tr>\n",
       "    <tr>\n",
       "      <th>3</th>\n",
       "      <td>British civil servants' union calls nationwide...</td>\n",
       "      <td>LONDON (Reuters) - British civil servants will...</td>\n",
       "      <td>worldnews</td>\n",
       "      <td>September 6, 2017</td>\n",
       "      <td>1</td>\n",
       "      <td>london reuters british civil servant vote next...</td>\n",
       "    </tr>\n",
       "    <tr>\n",
       "      <th>4</th>\n",
       "      <td>BOILER ROOM – EP #46 – Murder, Witchery, Polit...</td>\n",
       "      <td>Tune in to the Alternate Current Radio Network...</td>\n",
       "      <td>Middle-east</td>\n",
       "      <td>March 3, 2016</td>\n",
       "      <td>0</td>\n",
       "      <td>tune alternate current radio network acr anoth...</td>\n",
       "    </tr>\n",
       "  </tbody>\n",
       "</table>\n",
       "</div>"
      ],
      "text/plain": [
       "                                               title  \\\n",
       "0  WOW! BLACK DALLAS Police Sergeant Sues Obama, ...   \n",
       "1  China says will investigate if U.N. resolution...   \n",
       "2  New urgency for Cleveland security after Franc...   \n",
       "3  British civil servants' union calls nationwide...   \n",
       "4  BOILER ROOM – EP #46 – Murder, Witchery, Polit...   \n",
       "\n",
       "                                                text       subject  \\\n",
       "0  Read the list of people and organizations this...      politics   \n",
       "1  BEIJING (Reuters) - China s foreign ministry o...     worldnews   \n",
       "2  CLEVELAND (Reuters) - Cleveland on Friday set ...  politicsNews   \n",
       "3  LONDON (Reuters) - British civil servants will...     worldnews   \n",
       "4  Tune in to the Alternate Current Radio Network...   Middle-east   \n",
       "\n",
       "                 date  label  \\\n",
       "0        Sep 18, 2016      0   \n",
       "1   November 8, 2017       1   \n",
       "2      July 15, 2016       1   \n",
       "3  September 6, 2017       1   \n",
       "4       March 3, 2016      0   \n",
       "\n",
       "                                       clean_content  \n",
       "0  read list people organization brave dallas pol...  \n",
       "1  beijing reuters china foreign ministry wednesd...  \n",
       "2  cleveland reuters cleveland friday set concret...  \n",
       "3  london reuters british civil servant vote next...  \n",
       "4  tune alternate current radio network acr anoth...  "
      ]
     },
     "execution_count": 11,
     "metadata": {},
     "output_type": "execute_result"
    }
   ],
   "source": [
    "df = load_and_prepare_data(fake_path, true_path, output_path)\n",
    "\n",
    "# Quick preview\n",
    "df.head()"
   ]
  },
  {
   "cell_type": "code",
   "execution_count": null,
   "id": "df256de1",
   "metadata": {},
   "outputs": [],
   "source": []
  },
  {
   "cell_type": "code",
   "execution_count": null,
   "id": "75c020c0",
   "metadata": {},
   "outputs": [],
   "source": []
  },
  {
   "cell_type": "code",
   "execution_count": null,
   "id": "34c640c1",
   "metadata": {},
   "outputs": [],
   "source": []
  },
  {
   "cell_type": "code",
   "execution_count": null,
   "id": "c392cb0f",
   "metadata": {},
   "outputs": [],
   "source": []
  }
 ],
 "metadata": {
  "kernelspec": {
   "display_name": "Python 3",
   "language": "python",
   "name": "python3"
  },
  "language_info": {
   "codemirror_mode": {
    "name": "ipython",
    "version": 3
   },
   "file_extension": ".py",
   "mimetype": "text/x-python",
   "name": "python",
   "nbconvert_exporter": "python",
   "pygments_lexer": "ipython3",
   "version": "3.10.17"
  }
 },
 "nbformat": 4,
 "nbformat_minor": 5
}
